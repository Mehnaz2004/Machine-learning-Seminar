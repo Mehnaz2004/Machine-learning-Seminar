{
 "cells": [
  {
   "cell_type": "markdown",
   "metadata": {},
   "source": [
    "###Day 2 Homework :"
   ]
  },
  {
   "cell_type": "markdown",
   "metadata": {},
   "source": [
    "1. Problem Statement:  Build a Supervised Learning Model"
   ]
  },
  {
   "cell_type": "raw",
   "metadata": {},
   "source": [
    "Objective:\n",
    "Choose any supervised machine learning model (e.g., Linear Regression or Classification models) and apply it to a case study of your choice.\n",
    "Write a Python program to train the model on the dataset, evaluate its performance, and visualize the data and results.\n",
    "\n",
    "Requirements:\n",
    "\n",
    "1. Select an appropriate supervised learning algorithm based on the dataset.\n",
    "2. Load a dataset from Kaggle (choose one with a usability score of 10 and relevant to regression or classification).\n",
    "3. Preprocess the dataset by handling missing values and encoding categorical variables if needed.\n",
    "4. Visualize the dataset using appropriate methods (e.g., scatter plots, bar graphs, or pair plots).\n",
    "5. Split the dataset into training and testing sets.\n",
    "6. Train the model and evaluate its performance using appropriate metrics like accuracy, precision, recall, or RMSE.\n",
    "7. Visualize the results (e.g., plot the regression line or classification boundaries\n",
    "\n",
    "Guidelines:\n",
    "\n",
    "1. Dataset Selection:\n",
    ". Visit Kaggle and choose a dataset with a usability score of 10 suitable for supervised learning tasks.\n",
    ". Download and load the dataset using pandas.\n",
    "\n",
    "2. Preprocessing:\n",
    ". Handle missing values and encode categorical data.\n",
    "\n",
    "3. Data Visualization:\n",
    ". Use matplotlib or seaborn for visualizing the data.\n",
    ". Add labels, titles, and legends to your plots.\n",
    "\n",
    "4. Model Training and Evaluation:\n",
    ". Use libraries like scikit-learn to train the model.\n",
    "\n",
    "5. Evaluate performance using metrics relevant to your chosen algorithm.\n",
    "\n",
    "6. Result Visualization:\n",
    ". Plot the predictions against actual values for regression."
   ]
  },
  {
   "cell_type": "markdown",
   "metadata": {},
   "source": [
    "1. Problem Statement:  Build a UnSupervised Learning Model"
   ]
  },
  {
   "cell_type": "raw",
   "metadata": {
    "vscode": {
     "languageId": "raw"
    }
   },
   "source": [
    "Objective:\n",
    "Choose any unsupervised machine learning model (e.g., Clustering or Association Rule Mining) and apply it to a suitable case study. \n",
    "Write a Python program to train the model, analyze the results, and visualize the data and clusters.\n",
    "\n",
    "Requirements:\n",
    "\n",
    "1. Select an appropriate unsupervised learning algorithm based on the dataset.\n",
    "2. Load a dataset from Kaggle (choose one with a usability score of 10 and relevant to clustering or pattern discovery).\n",
    "3. Preprocess the dataset by handling missing values.\n",
    "4. Visualize the dataset to understand its structure (e.g., pair plots or heatmaps).\n",
    "5. Apply the algorithm and analyze the clusters or patterns.\n",
    "6. Visualize the clusters or patterns using graphs or plots.\n",
    "\n",
    "Guidelines:\n",
    "\n",
    "1. Dataset Selection:\n",
    ". Visit Kaggle and choose a dataset with a usability score of 10 suitable for unsupervised learning tasks.\n",
    ". Download and load the dataset using pandas.\n",
    "\n",
    "2. Preprocessing:\n",
    ". Handle any missing or inconsistent values before proceeding.\n",
    "\n",
    "3. Data Visualization:\n",
    ". Use matplotlib or seaborn to visualize the dataset structure.\n",
    ". Add meaningful labels and titles to your visualizations.\n",
    "\n",
    "4. Model Training:\n",
    ". Train the chosen clustering algorithm (e.g., KMeans or DBSCAN) using fit().\n",
    ". Retrieve cluster labels using the model's labels_ attribute.\n",
    "\n",
    "5. Cluster Visualization:\n",
    ". Use scatter plots or dendrograms to represent clusters.\n",
    ". Include legends to identify different clusters.\n",
    "\n"
   ]
  },
  {
   "cell_type": "markdown",
   "metadata": {},
   "source": [
    "3. Problem Statement: Build a Pickle Model and make an application using streamlit"
   ]
  },
  {
   "cell_type": "raw",
   "metadata": {
    "vscode": {
     "languageId": "raw"
    }
   },
   "source": [
    "Objective:\n",
    "Take one of the models you trained (supervised or unsupervised) and save it as a pickle file. \n",
    "Then, create a Streamlit application to interact with the model.\n",
    "\n",
    "Requirements:\n",
    "\n",
    "1. Save the trained model as a .pkl file using pickle or joblib.\n",
    "2. Build a Streamlit app to take user input and make predictions or analyze results using the saved model.\n",
    "\n",
    "Guidelines:\n",
    "\n",
    "1.Pickle the Model:\n",
    ". Save the trained model using pickle.dump() or joblib.dump().\n",
    ". Load the model in your Streamlit app using pickle.load() or joblib.load().\n",
    "\n",
    "2. Streamlit App:\n",
    "\n",
    ". Use Streamlit components like st.text_input, st.number_input, or st.selectbox to collect user inputs.\n",
    ". Use the loaded model's predict() method to make predictions.\n",
    "\n",
    "3. Display the predictions or results using st.write().\n",
    "\n",
    "Steps for Streamlit App:\n",
    "\n",
    ". Install Streamlit using pip install streamlit.\n",
    ". Create a Python file for your app (e.g., app.py).\n",
    ". Add input fields to collect user data.\n",
    ". Load the pickle model and use it to process the inputs.\n",
    ". Display the results on the app interface.\n",
    "\n",
    "Run the app using streamlit run app.py in the terminal."
   ]
  }
 ],
 "metadata": {
  "kernelspec": {
   "display_name": "Python 3",
   "language": "python",
   "name": "python3"
  },
  "language_info": {
   "codemirror_mode": {
    "name": "ipython",
    "version": 3
   },
   "file_extension": ".py",
   "mimetype": "text/x-python",
   "name": "python",
   "nbconvert_exporter": "python",
   "pygments_lexer": "ipython3",
   "version": "3.8.10"
  }
 },
 "nbformat": 4,
 "nbformat_minor": 2
}
