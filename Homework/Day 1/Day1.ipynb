{
 "cells": [
  {
   "cell_type": "markdown",
   "metadata": {},
   "source": [
    "### Day 1 Homework :"
   ]
  },
  {
   "cell_type": "markdown",
   "metadata": {},
   "source": [
    "1. Problem Statement: Build a Simple Calculator Using Functions in Python"
   ]
  },
  {
   "cell_type": "raw",
   "metadata": {
    "vscode": {
     "languageId": "raw"
    }
   },
   "source": [
    "Objective:\n",
    "Write a Python program that defines a function to perform basic arithmetic operations. \n",
    "The program should prompt the user to choose an operation (Addition, Subtraction, Multiplication, or Division), \n",
    "accept two numbers as input, and return the calculated result.\n",
    "\n",
    "Requirements:\n",
    "The program should:\n",
    "\n",
    "1. Define a single function `calculate` that takes three arguments: two numbers and the operation.\n",
    "2. Use `if`, `elif`, and `else` statements to determine which operation to perform.\n",
    "3. Print the result of the chosen operation.\n",
    "\n",
    "The operations supported are:\n",
    "- Addition\n",
    "- Subtraction\n",
    "- Multiplication\n",
    "- Division\n",
    "\n",
    "The program should:\n",
    "1. Ask the user to input two numbers.\n",
    "2. Ask the user to choose an operation (e.g., \"add\", \"subtract\", \"multiply\", \"divide\").\n",
    "3. Pass these inputs to the `calculate` function and display the result.\n",
    "\n",
    "Guidelines:\n",
    "1. **Defining the Function:**\n",
    "   - Name your function `calculate`.\n",
    "   - Use parameters for:\n",
    "     - The first number.\n",
    "     - The second number.\n",
    "     - The operation to perform.\n",
    "\n",
    "2. **Using Conditional Statements:**\n",
    "   - Use an `if` statement to check if the operation is \"add\".\n",
    "   - Use `elif` for \"subtract\", \"multiply\", and \"divide\".\n",
    "   - Use `else` to handle invalid operations (e.g., \"Invalid operation\").\n",
    "\n",
    "3. **Handling Edge Cases:**\n",
    "   - If the user selects \"divide\" and the second number is 0, display a message like \"Division by zero is not allowed.\"\n",
    "\n",
    "4. **Getting User Input:**\n",
    "   - Use the `input()` function to get the numbers and the operation from the user.\n",
    "   - Convert the input numbers from strings to floats using `float()`.\n"
   ]
  },
  {
   "cell_type": "markdown",
   "metadata": {},
   "source": [
    "2. Problem Statement: Work with a Dataset from Kaggle\n"
   ]
  },
  {
   "cell_type": "raw",
   "metadata": {
    "vscode": {
     "languageId": "raw"
    }
   },
   "source": [
    "Objective:\n",
    "Find a dataset from Kaggle, download it as a .csv file, load it into Python, and perform basic data operations such as creating a DataFrame, describing the dataset, checking for null values, handling duplicates, encoding categorical data, and adding or removing data.\n",
    "\n",
    "Requirements:\n",
    "1. Download a dataset from Kaggle in .csv format.\n",
    "2. Perform the following operations in Python:\n",
    "   - Load the dataset using Pandas.\n",
    "   - Create a DataFrame from the dataset.\n",
    "   - Generate descriptive statistics for the dataset using describe().\n",
    "   - Check for missing/null values in the dataset.\n",
    "   - Handle duplicate rows in the dataset.\n",
    "   - Encode categorical data into numerical form.\n",
    "   - Remove a specific row or column from the dataset.\n",
    "\n",
    "Guidelines:\n",
    "1. **Downloading the Dataset:**\n",
    "   - Visit Kaggle (https://www.kaggle.com/) and sign in or create an account.\n",
    "   - Find a dataset of interest and download it as a .csv file.\n",
    "\n",
    "2. **Loading the Data:**\n",
    "   - Use the Pandas library to load the .csv file into a DataFrame:\n",
    "     ```python\n",
    "     import pandas as pd\n",
    "     df = pd.read_csv(\"path_to_csv_file.csv\")\n",
    "     ```\n",
    "\n",
    "3. **Describing the Dataset:**\n",
    "   - Use the `describe()` method to view basic statistical details of the dataset:\n",
    "     ```python\n",
    "     print(df.describe())\n",
    "     ```\n",
    "\n",
    "4. **Checking for Null Values:**\n",
    "   - Use the `isnull()` method along with `sum()` to check for missing values:\n",
    "     ```python\n",
    "     print(df.isnull().sum())\n",
    "     ```\n",
    "\n",
    "5. **Handling Missing Values:**\n",
    "   - Fill missing values with a default value:\n",
    "     ```python\n",
    "     df[\"Column_Name\"].fillna(value, inplace=True)\n",
    "     ```\n",
    "   - Drop rows with missing values:\n",
    "     ```python\n",
    "     df.dropna(inplace=True)\n",
    "     ```\n",
    "\n",
    "6. **Handling Duplicate Rows:**\n",
    "   - Check for duplicate rows:\n",
    "     ```python\n",
    "     print(df.duplicated().sum())\n",
    "     ```\n",
    "   - Drop duplicate rows:\n",
    "     ```python\n",
    "     df.drop_duplicates(inplace=True)\n",
    "     ```\n",
    "\n",
    "7. **Encoding Categorical Data:**\n",
    "   \n",
    "   - Use label encoding for a single column:\n",
    "     ```python\n",
    "     from sklearn.preprocessing import LabelEncoder\n",
    "     encoder = LabelEncoder()\n",
    "     df[\"Categorical_Column\"] = encoder.fit_transform(df[\"Categorical_Column\"])\n",
    "     ```\n",
    "\n",
    "8. **Removing Data:**\n",
    "   - Remove a specific column:\n",
    "     ```python\n",
    "     df = df.drop(\"Column_Name\", axis=1)\n",
    "     ```\n",
    "   - Remove a specific row:\n",
    "     ```python\n",
    "     df = df.drop(index, axis=0)\n",
    "     ```\n",
    "\n",
    "9. **Previewing the DataFrame:**\n",
    "    - Use the `head()` method to preview the first few rows of the DataFrame:\n",
    "      ```python\n",
    "      print(df.head())\n",
    "      ```\n",
    "\n",
    "Hints:\n",
    "1. For Kaggle datasets, use beginner-friendly keywords like \"sales data,\" \"student performance,\" or \"weather data.\"\n",
    "2. Ensure the .csv file is saved in your working directory or provide the full path while loading it in Python.\n",
    "3. Explore unique values in categorical columns using:\n",
    "   ```python\n",
    "   print(df[\"Categorical_Column\"].unique())\n"
   ]
  },
  {
   "cell_type": "markdown",
   "metadata": {},
   "source": [
    "3. Problem Statement: Visualizing data used in the above Problem Statement using matplotlib or seaborn and explore different types of graphs"
   ]
  },
  {
   "cell_type": "raw",
   "metadata": {
    "vscode": {
     "languageId": "raw"
    }
   },
   "source": [
    "Objective:\n",
    "Write a Python program to visualize data used in a simple calculator application. The program should leverage the matplotlib or seaborn libraries to explore different types of graphs. The visualizations should highlight data trends or distributions effectively.\n",
    "\n",
    "Requirements:\n",
    "1. Accept data (e.g., numbers and operations) generated from the calculator program.\n",
    "2. Perform the following operations in Python:\n",
    "   - Use matplotlib or seaborn to create visualizations.\n",
    "   - Visualize data using the following types of graphs:\n",
    "     - Bar Chart: Visualize the frequency of operations performed (e.g., \"add\", \"subtract\").\n",
    "     - Line Graph: Show trends in numbers entered over time (optional).\n",
    "     - Scatter Plot: Highlight relationships between inputs (e.g., first number vs. second number).\n",
    "     - Pie Chart: Display the proportion of different operations.\n",
    "   - Ensure graphs include the following elements:\n",
    "     - Titles for clarity.\n",
    "     - Labels for axes or data series.\n",
    "   - Display graphs using plt.show() or save them as images with plt.savefig().\n",
    "\n",
    "Guidelines:\n",
    "1. Data Preparation:\n",
    "   - Use Python lists or dictionaries to store data, such as numbers entered and operations performed.\n",
    "   - Ensure the data is structured to support easy visualization (e.g., key-value pairs or separate lists for operations and numbers).\n",
    "\n",
    "2. Using Matplotlib or Seaborn:\n",
    "   - Use matplotlib.pyplot for basic visualizations like bar and line charts.\n",
    "   - Use seaborn for advanced visualizations and aesthetically pleasing graphs.\n",
    "   - Customize graphs using appropriate color palettes, themes, and layouts.\n"
   ]
  }
 ],
 "metadata": {
  "kernelspec": {
   "display_name": "Python 3",
   "language": "python",
   "name": "python3"
  },
  "language_info": {
   "codemirror_mode": {
    "name": "ipython",
    "version": 3
   },
   "file_extension": ".py",
   "mimetype": "text/x-python",
   "name": "python",
   "nbconvert_exporter": "python",
   "pygments_lexer": "ipython3",
   "version": "3.12.4"
  }
 },
 "nbformat": 4,
 "nbformat_minor": 2
}
