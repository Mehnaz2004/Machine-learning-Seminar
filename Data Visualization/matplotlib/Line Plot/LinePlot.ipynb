{
 "cells": [
  {
   "cell_type": "markdown",
   "metadata": {
    "vscode": {
     "languageId": "raw"
    }
   },
   "source": [
    "Navigate to the project directory"
   ]
  },
  {
   "cell_type": "raw",
   "metadata": {
    "vscode": {
     "languageId": "raw"
    }
   },
   "source": [
    "cd '.\\path_to_your_file'"
   ]
  },
  {
   "cell_type": "markdown",
   "metadata": {},
   "source": [
    "Installing the matplotlib library"
   ]
  },
  {
   "cell_type": "code",
   "execution_count": null,
   "metadata": {
    "vscode": {
     "languageId": "shellscript"
    }
   },
   "outputs": [],
   "source": [
    "pip install matplotlib"
   ]
  },
  {
   "cell_type": "markdown",
   "metadata": {
    "vscode": {
     "languageId": "raw"
    }
   },
   "source": [
    "Import the matplotlib library "
   ]
  },
  {
   "cell_type": "code",
   "execution_count": 7,
   "metadata": {},
   "outputs": [],
   "source": [
    "import matplotlib.pyplot as plt"
   ]
  },
  {
   "cell_type": "markdown",
   "metadata": {},
   "source": [
    "Read,Extract and Load data from the dataset "
   ]
  },
  {
   "cell_type": "code",
   "execution_count": null,
   "metadata": {},
   "outputs": [],
   "source": [
    "import pandas as pd \n",
    "\n",
    "data = pd.read_csv(\"line plot.csv\")\n",
    "print(data)\n",
    "\n",
    "x = data[\"SAT\"]\n",
    "y = data[\"GPA\"]\n",
    "\n",
    "print(x)\n",
    "print(y)"
   ]
  },
  {
   "cell_type": "markdown",
   "metadata": {},
   "source": [
    "Using Matplotlib to visualize the data"
   ]
  },
  {
   "cell_type": "code",
   "execution_count": null,
   "metadata": {},
   "outputs": [],
   "source": [
    "plt.figure(figsize=(8, 6)) # Defines the size of the plot\n",
    "plt.plot(\n",
    "    x, y,                  # Plots the data points with `x` (SAT scores) on the x-axis and `y` (GPA scores) on the y-axis.\n",
    "    color='green',         # Sets the line color to green.\n",
    "    marker='o',            # Adds circular markers at each data point.\n",
    "    linestyle='-',         # Connects the points with a solid line.\n",
    "    linewidth=2,           # Sets the thickness of the line to 2 units.\n",
    "    markersize=6,          # Sets the size of the markers to 6 units.\n",
    "    label='SAT vs GPA'     # Adds a label to the line for use in the legend.\n",
    ")\n",
    "\n",
    "\n",
    "# Add title and labels\n",
    "plt.title('Scatter Plot of SAT Scores vs GPA', fontsize=14)\n",
    "plt.xlabel('SAT Scores', fontsize=12)\n",
    "plt.ylabel('GPA', fontsize=12)\n",
    "\n",
    "# Customize the grid\n",
    "plt.grid(True, linestyle='--', alpha=0.6)\n",
    "\n",
    "# Show the plot\n",
    "plt.show()"
   ]
  }
 ],
 "metadata": {
  "kernelspec": {
   "display_name": "Python 3",
   "language": "python",
   "name": "python3"
  },
  "language_info": {
   "codemirror_mode": {
    "name": "ipython",
    "version": 3
   },
   "file_extension": ".py",
   "mimetype": "text/x-python",
   "name": "python",
   "nbconvert_exporter": "python",
   "pygments_lexer": "ipython3",
   "version": "3.12.4"
  }
 },
 "nbformat": 4,
 "nbformat_minor": 2
}
