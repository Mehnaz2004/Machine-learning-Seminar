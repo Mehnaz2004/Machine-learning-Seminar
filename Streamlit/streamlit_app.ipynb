{
 "cells": [
  {
   "cell_type": "markdown",
   "metadata": {},
   "source": [
    "### Working with Streamlit to develop a frontend for your ML projects"
   ]
  },
  {
   "cell_type": "raw",
   "metadata": {
    "vscode": {
     "languageId": "raw"
    }
   },
   "source": [
    "Streamlit is designed to make it easy for data scientists and machine learning engineers to create web applications without requiring extensive knowledge of web development. \n",
    "With just a few lines of Python code, users can create interactive visualizations, input forms, and real-time data updates.\n",
    "Streamlit is particularly popular for prototyping and sharing data-driven insights quickly."
   ]
  },
  {
   "cell_type": "markdown",
   "metadata": {},
   "source": [
    "Make sure to install streamlit first !!\n"
   ]
  },
  {
   "cell_type": "code",
   "execution_count": null,
   "metadata": {
    "vscode": {
     "languageId": "shellscript"
    }
   },
   "outputs": [],
   "source": [
    "pip install streamlit"
   ]
  },
  {
   "cell_type": "markdown",
   "metadata": {},
   "source": [
    "Lets get going...."
   ]
  },
  {
   "cell_type": "markdown",
   "metadata": {},
   "source": [
    "Import the necessary libraries"
   ]
  },
  {
   "cell_type": "code",
   "execution_count": null,
   "metadata": {},
   "outputs": [],
   "source": [
    "import streamlit as st\n",
    "import pickle as pkl"
   ]
  },
  {
   "cell_type": "markdown",
   "metadata": {},
   "source": [
    "Load the trained Model from model.pkl into our project"
   ]
  },
  {
   "cell_type": "code",
   "execution_count": null,
   "metadata": {},
   "outputs": [],
   "source": [
    "# Load the trained model\n",
    "modelfile = open(\"model.pkl\", \"rb\")\n",
    "model = pkl.load(modelfile)\n",
    "modelfile.close()"
   ]
  },
  {
   "cell_type": "markdown",
   "metadata": {},
   "source": [
    "Define the prediction function"
   ]
  },
  {
   "cell_type": "code",
   "execution_count": null,
   "metadata": {},
   "outputs": [],
   "source": [
    "def predict_diabetes(glucose, bloodpressure):\n",
    "    glucose = float(glucose)\n",
    "    bloodpressure = float(bloodpressure)\n",
    "\n",
    "    # Make a prediction using the trained model\n",
    "    prediction = model.predict([[glucose, bloodpressure]])\n",
    "    if prediction[0] == 0:\n",
    "        return \"Non-Diabetic\"\n",
    "    else:\n",
    "        return \"Diabetic\""
   ]
  },
  {
   "cell_type": "markdown",
   "metadata": {},
   "source": [
    "Desing the frontend : Streamlit Application"
   ]
  },
  {
   "cell_type": "code",
   "execution_count": null,
   "metadata": {},
   "outputs": [],
   "source": [
    "st.title(\"Diabetes Prediction App\")\n",
    "\n",
    "st.write(\"This app predicts whether a person is diabetic or non-diabetic based on glucose and blood pressure levels.\")\n",
    "\n",
    "# Input fields for glucose and blood pressure\n",
    "glucose_input = st.text_input(\"Enter glucose level:\")\n",
    "bloodpressure_input = st.text_input(\"Enter blood pressure level:\")\n",
    "\n",
    "# Predict button\n",
    "if st.button(\"Predict\"):\n",
    "    if glucose_input and bloodpressure_input:\n",
    "        try:\n",
    "            # Get prediction\n",
    "            prediction = predict_diabetes(glucose_input, bloodpressure_input)\n",
    "            st.success(f\"Prediction: {prediction}\")\n",
    "        except ValueError:\n",
    "            st.error(\"Please enter valid numeric values for glucose and blood pressure.\")\n",
    "    else:\n",
    "        st.warning(\"Please fill in both glucose and blood pressure levels.\")"
   ]
  }
 ],
 "metadata": {
  "kernelspec": {
   "display_name": "Python 3",
   "language": "python",
   "name": "python3"
  },
  "language_info": {
   "codemirror_mode": {
    "name": "ipython",
    "version": 3
   },
   "file_extension": ".py",
   "mimetype": "text/x-python",
   "name": "python",
   "nbconvert_exporter": "python",
   "pygments_lexer": "ipython3",
   "version": "3.12.4"
  }
 },
 "nbformat": 4,
 "nbformat_minor": 2
}
